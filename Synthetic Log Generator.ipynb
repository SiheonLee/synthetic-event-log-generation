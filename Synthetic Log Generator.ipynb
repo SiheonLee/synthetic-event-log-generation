{
 "cells": [
  {
   "cell_type": "markdown",
   "metadata": {},
   "source": [
    "### Steps:\n",
    "- Simulate with BIMP with constant task cycle_times (output: MXML log)\n",
    "- Transform MXML to XES\n",
    "- Inject patterns (Change durations by Updating timestamps) \n",
    "- Add noise and save a separate noisy logs\n",
    "- Adapt both normal and noisy logs based on given threshold\n",
    "- Encode traces and save an encoded "
   ]
  },
  {
   "cell_type": "code",
   "execution_count": 88,
   "metadata": {},
   "outputs": [],
   "source": [
    "import time\n",
    "\n",
    "# get the start time\n",
    "start_time_code = time.process_time()"
   ]
  },
  {
   "cell_type": "code",
   "execution_count": 89,
   "metadata": {},
   "outputs": [
    {
     "name": "stdout",
     "output_type": "stream",
     "text": [
      "Stored 'ADAPTATIONS' (list)\n",
      "Stored 'LOGS_DIR' (str)\n",
      "Stored 'raw_data_file_name' (str)\n",
      "Stored 'noisy_data_file_name' (str)\n"
     ]
    }
   ],
   "source": [
    "from IPython.display import Image\n",
    "\n",
    "SKIP_ACTIVITY, INSERT_ACTIVITY = 'skip-activity', 'insert-activity'\n",
    "ADAPTATIONS = [SKIP_ACTIVITY, INSERT_ACTIVITY]\n",
    "\n",
    "ADAPTATION_TYPE = SKIP_ACTIVITY\n",
    "LOGS_DIR = '../logs/simulation-models/'\n",
    "LOG_NAME = 'sample_sequence_simulation_logs'\n",
    "LOG_PATH = LOGS_DIR + LOG_NAME + '.xes'\n",
    "TRANSFORMED_LOG_PATH = LOGS_DIR + LOG_NAME + '_transformed.xes'\n",
    "\n",
    "raw_data_file_name = LOGS_DIR + LOG_NAME + '_adapted.csv'\n",
    "noisy_data_file_name = LOGS_DIR + LOG_NAME + '_adapted_noisy.csv'\n",
    "\n",
    "raw_data_object_file_path = LOGS_DIR + LOG_NAME + '_event_logs_patterned.pickle'\n",
    "noisy_data_object_file_path = LOGS_DIR + LOG_NAME + '_event_logs_noisy.pickle'\n",
    "\n",
    "Image(filename=LOGS_DIR + 'sample_sequence.png') \n",
    "\n",
    "%store ADAPTATIONS\n",
    "\n",
    "%store LOGS_DIR\n",
    "%store raw_data_file_name\n",
    "%store noisy_data_file_name"
   ]
  },
  {
   "cell_type": "code",
   "execution_count": 90,
   "metadata": {},
   "outputs": [
    {
     "name": "stdout",
     "output_type": "stream",
     "text": [
      "sample trace:\n",
      "<trace>\n",
      "\t<string key=\"concept:name\" value=\"192\"/>\n",
      "\t<string key=\"LogType\" value=\"MXML.EnactmentLog\"/>\n",
      "\t<event>\n",
      "\t\t<string key=\"elementId\" value=\"process_start_event\"/>\n",
      "\t\t<string key=\"concept:name\" value=\"process start event\"/>\n",
      "\t\t<string key=\"processId\" value=\"Process_sample_sequence\"/>\n",
      "\t\t<string key=\"lifecycle:transition\" value=\"assign\"/>\n",
      "\t\t<date key=\"time:timestamp\" value=\"2022-08-16T17:00:00.000Z\"/>\n",
      "\t</event>\n",
      "\t<event>\n",
      "\t\t<string key=\"elementId\" value=\"process_start_event\"/>\n",
      "\t\t<string key=\"concept:name\" value=\"process start event\"/>\n",
      "\t\t<string key=\"processId\" value=\"Process_sample_sequence\"/>\n",
      "\t\t<string key=\"lifecycle:transition\" value=\"start\"/>\n",
      "\t\t<date key=\"time:timestamp\" value=\"2022-08-16T17:00:00.000Z\"/>\n",
      "\t</event>\n",
      "\t<event>\n",
      "\t\t<string key=\"elementId\" value=\"process_start_event\"/>\n",
      "\t\t<string key=\"concept:name\" value=\"process start event\"/>\n",
      "\t\t<string key=\"processId\" value=\"Process_sample_sequence\"/>\n",
      "\t\t<string key=\"lifecycle:transition\" value=\"complete\"/>\n",
      "\t\t<date key=\"time:timestamp\" value=\"2022-08-16T17:00:00.000Z\"/>\n",
      "\t</event>\n",
      "\t<event>\n",
      "\t\t<string key=\"elementId\" value=\"Activity_A\"/>\n",
      "\t\t<string key=\"concept:name\" value=\"A\"/>\n",
      "\t\t<string key=\"processId\" value=\"Process_sample_sequence\"/>\n",
      "\t\t<string key=\"lifecycle:transition\" value=\"assign\"/>\n",
      "\t\t<date key=\"time:timestamp\" value=\"2022-08-16T17:00:00.000Z\"/>\n",
      "\t</event>\n",
      "\t<event>\n",
      "\t\t<string key=\"elementId\" value=\"Activity_A\"/>\n",
      "\t\t<string key=\"resourceId\" value=\"QBP_DEFAULT_RESOURCE\"/>\n",
      "\t\t<string key=\"org:resource\" value=\"Default Resource-000008\"/>\n",
      "\t\t<string key=\"concept:name\" value=\"A\"/>\n",
      "\t\t<string key=\"processId\" value=\"Process_sample_sequence\"/>\n",
      "\t\t<string key=\"lifecycle:transition\" value=\"start\"/>\n",
      "\t\t<date key=\"time:timestamp\" value=\"2022-08-16T17:00:00.000Z\"/>\n",
      "\t</event>\n",
      "\t<event>\n",
      "\t\t<string key=\"elementId\" value=\"Activity_A\"/>\n",
      "\t\t<string key=\"resourceId\" value=\"QBP_DEFAULT_RESOURCE\"/>\n",
      "\t\t<string key=\"org:resource\" value=\"Default Resource-000008\"/>\n",
      "\t\t<string key=\"resourceCost\" value=\"12.5\"/>\n",
      "\t\t<string key=\"concept:name\" value=\"A\"/>\n",
      "\t\t<string key=\"processId\" value=\"Process_sample_sequence\"/>\n",
      "\t\t<string key=\"lifecycle:transition\" value=\"complete\"/>\n",
      "\t\t<date key=\"time:timestamp\" value=\"2022-08-17T09:30:00.000Z\"/>\n",
      "\t</event>\n",
      "\t<event>\n",
      "\t\t<string key=\"elementId\" value=\"Activity_B\"/>\n",
      "\t\t<string key=\"concept:name\" value=\"B\"/>\n",
      "\t\t<string key=\"processId\" value=\"Process_sample_sequence\"/>\n",
      "\t\t<string key=\"lifecycle:transition\" value=\"assign\"/>\n",
      "\t\t<date key=\"time:timestamp\" value=\"2022-08-17T09:30:00.000Z\"/>\n",
      "\t</event>\n",
      "\t<event>\n",
      "\t\t<string key=\"elementId\" value=\"Activity_B\"/>\n",
      "\t\t<string key=\"resourceId\" value=\"QBP_DEFAULT_RESOURCE\"/>\n",
      "\t\t<string key=\"org:resource\" value=\"Default Resource-000005\"/>\n",
      "\t\t<string key=\"concept:name\" value=\"B\"/>\n",
      "\t\t<string key=\"processId\" value=\"Process_sample_sequence\"/>\n",
      "\t\t<string key=\"lifecycle:transition\" value=\"start\"/>\n",
      "\t\t<date key=\"time:timestamp\" value=\"2022-08-17T09:30:00.000Z\"/>\n",
      "\t</event>\n",
      "\t<event>\n",
      "\t\t<string key=\"elementId\" value=\"Activity_B\"/>\n",
      "\t\t<string key=\"resourceId\" value=\"QBP_DEFAULT_RESOURCE\"/>\n",
      "\t\t<string key=\"org:resource\" value=\"Default Resource-000005\"/>\n",
      "\t\t<string key=\"resourceCost\" value=\"12.5\"/>\n",
      "\t\t<string key=\"concept:name\" value=\"B\"/>\n",
      "\t\t<string key=\"processId\" value=\"Process_sample_sequence\"/>\n",
      "\t\t<string key=\"lifecycle:transition\" value=\"complete\"/>\n",
      "\t\t<date key=\"time:timestamp\" value=\"2022-08-17T10:00:00.000Z\"/>\n",
      "\t</event>\n",
      "\t<event>\n",
      "\t\t<string key=\"elementId\" value=\"Activity_C\"/>\n",
      "\t\t<string key=\"concept:name\" value=\"C\"/>\n",
      "\t\t<string key=\"processId\" value=\"Process_sample_sequence\"/>\n",
      "\t\t<string key=\"lifecycle:transition\" value=\"assign\"/>\n",
      "\t\t<date key=\"time:timestamp\" value=\"2022-08-17T10:00:00.000Z\"/>\n",
      "\t</event>\n",
      "\t<event>\n",
      "\t\t<string key=\"elementId\" value=\"Activity_C\"/>\n",
      "\t\t<string key=\"resourceId\" value=\"QBP_DEFAULT_RESOURCE\"/>\n",
      "\t\t<string key=\"org:resource\" value=\"Default Resource-000002\"/>\n",
      "\t\t<string key=\"concept:name\" value=\"C\"/>\n",
      "\t\t<string key=\"processId\" value=\"Process_sample_sequence\"/>\n",
      "\t\t<string key=\"lifecycle:transition\" value=\"start\"/>\n",
      "\t\t<date key=\"time:timestamp\" value=\"2022-08-17T10:00:00.000Z\"/>\n",
      "\t</event>\n",
      "\t<event>\n",
      "\t\t<string key=\"elementId\" value=\"Activity_C\"/>\n",
      "\t\t<string key=\"resourceId\" value=\"QBP_DEFAULT_RESOURCE\"/>\n",
      "\t\t<string key=\"org:resource\" value=\"Default Resource-000002\"/>\n",
      "\t\t<string key=\"resourceCost\" value=\"12.5\"/>\n",
      "\t\t<string key=\"concept:name\" value=\"C\"/>\n",
      "\t\t<string key=\"processId\" value=\"Process_sample_sequence\"/>\n",
      "\t\t<string key=\"lifecycle:transition\" value=\"complete\"/>\n",
      "\t\t<date key=\"time:timestamp\" value=\"2022-08-17T10:30:00.000Z\"/>\n",
      "\t</event>\n",
      "\t<event>\n",
      "\t\t<string key=\"elementId\" value=\"Activity_D\"/>\n",
      "\t\t<string key=\"concept:name\" value=\"D\"/>\n",
      "\t\t<string key=\"processId\" value=\"Process_sample_sequence\"/>\n",
      "\t\t<string key=\"lifecycle:transition\" value=\"assign\"/>\n",
      "\t\t<date key=\"time:timestamp\" value=\"2022-08-17T10:30:00.000Z\"/>\n",
      "\t</event>\n",
      "\t<event>\n",
      "\t\t<string key=\"elementId\" value=\"Activity_D\"/>\n",
      "\t\t<string key=\"resourceId\" value=\"QBP_DEFAULT_RESOURCE\"/>\n",
      "\t\t<string key=\"org:resource\" value=\"Default Resource-000009\"/>\n",
      "\t\t<string key=\"concept:name\" value=\"D\"/>\n",
      "\t\t<string key=\"processId\" value=\"Process_sample_sequence\"/>\n",
      "\t\t<string key=\"lifecycle:transition\" value=\"start\"/>\n",
      "\t\t<date key=\"time:timestamp\" value=\"2022-08-17T10:30:00.000Z\"/>\n",
      "\t</event>\n",
      "\t<event>\n",
      "\t\t<string key=\"elementId\" value=\"Activity_D\"/>\n",
      "\t\t<string key=\"resourceId\" value=\"QBP_DEFAULT_RESOURCE\"/>\n",
      "\t\t<string key=\"org:resource\" value=\"Default Resource-000009\"/>\n",
      "\t\t<string key=\"resourceCost\" value=\"12.5\"/>\n",
      "\t\t<string key=\"concept:name\" value=\"D\"/>\n",
      "\t\t<string key=\"processId\" value=\"Process_sample_sequence\"/>\n",
      "\t\t<string key=\"lifecycle:transition\" value=\"complete\"/>\n",
      "\t\t<date key=\"time:timestamp\" value=\"2022-08-17T11:00:00.000Z\"/>\n",
      "\t</event>\n",
      "\t<event>\n",
      "\t\t<string key=\"elementId\" value=\"Activity_E\"/>\n",
      "\t\t<string key=\"concept:name\" value=\"E\"/>\n",
      "\t\t<string key=\"processId\" value=\"Process_sample_sequence\"/>\n",
      "\t\t<string key=\"lifecycle:transition\" value=\"assign\"/>\n",
      "\t\t<date key=\"time:timestamp\" value=\"2022-08-17T11:00:00.000Z\"/>\n",
      "\t</event>\n",
      "\t<event>\n",
      "\t\t<string key=\"elementId\" value=\"Activity_E\"/>\n",
      "\t\t<string key=\"resourceId\" value=\"QBP_DEFAULT_RESOURCE\"/>\n",
      "\t\t<string key=\"org:resource\" value=\"Default Resource-000006\"/>\n",
      "\t\t<string key=\"concept:name\" value=\"E\"/>\n",
      "\t\t<string key=\"processId\" value=\"Process_sample_sequence\"/>\n",
      "\t\t<string key=\"lifecycle:transition\" value=\"start\"/>\n",
      "\t\t<date key=\"time:timestamp\" value=\"2022-08-17T11:00:00.000Z\"/>\n",
      "\t</event>\n",
      "\t<event>\n",
      "\t\t<string key=\"elementId\" value=\"Activity_E\"/>\n",
      "\t\t<string key=\"resourceId\" value=\"QBP_DEFAULT_RESOURCE\"/>\n",
      "\t\t<string key=\"org:resource\" value=\"Default Resource-000006\"/>\n",
      "\t\t<string key=\"resourceCost\" value=\"12.5\"/>\n",
      "\t\t<string key=\"concept:name\" value=\"E\"/>\n",
      "\t\t<string key=\"processId\" value=\"Process_sample_sequence\"/>\n",
      "\t\t<string key=\"lifecycle:transition\" value=\"complete\"/>\n",
      "\t\t<date key=\"time:timestamp\" value=\"2022-08-17T11:30:00.000Z\"/>\n",
      "\t</event>\n",
      "\t<event>\n",
      "\t\t<string key=\"elementId\" value=\"Activity_F\"/>\n",
      "\t\t<string key=\"concept:name\" value=\"F\"/>\n",
      "\t\t<string key=\"processId\" value=\"Process_sample_sequence\"/>\n",
      "\t\t<string key=\"lifecycle:transition\" value=\"assign\"/>\n",
      "\t\t<date key=\"time:timestamp\" value=\"2022-08-17T11:30:00.000Z\"/>\n",
      "\t</event>\n",
      "\t<event>\n",
      "\t\t<string key=\"elementId\" value=\"Activity_F\"/>\n",
      "\t\t<string key=\"resourceId\" value=\"QBP_DEFAULT_RESOURCE\"/>\n",
      "\t\t<string key=\"org:resource\" value=\"Default Resource-000003\"/>\n",
      "\t\t<string key=\"concept:name\" value=\"F\"/>\n",
      "\t\t<string key=\"processId\" value=\"Process_sample_sequence\"/>\n",
      "\t\t<string key=\"lifecycle:transition\" value=\"start\"/>\n",
      "\t\t<date key=\"time:timestamp\" value=\"2022-08-17T11:30:00.000Z\"/>\n",
      "\t</event>\n",
      "\t<event>\n",
      "\t\t<string key=\"elementId\" value=\"Activity_F\"/>\n",
      "\t\t<string key=\"resourceId\" value=\"QBP_DEFAULT_RESOURCE\"/>\n",
      "\t\t<string key=\"org:resource\" value=\"Default Resource-000003\"/>\n",
      "\t\t<string key=\"resourceCost\" value=\"12.5\"/>\n",
      "\t\t<string key=\"concept:name\" value=\"F\"/>\n",
      "\t\t<string key=\"processId\" value=\"Process_sample_sequence\"/>\n",
      "\t\t<string key=\"lifecycle:transition\" value=\"complete\"/>\n",
      "\t\t<date key=\"time:timestamp\" value=\"2022-08-17T12:00:00.000Z\"/>\n",
      "\t</event>\n",
      "\t<event>\n",
      "\t\t<string key=\"elementId\" value=\"process_end_event\"/>\n",
      "\t\t<string key=\"concept:name\" value=\"process end event\"/>\n",
      "\t\t<string key=\"processId\" value=\"Process_sample_sequence\"/>\n",
      "\t\t<string key=\"lifecycle:transition\" value=\"assign\"/>\n",
      "\t\t<date key=\"time:timestamp\" value=\"2022-08-17T12:00:00.000Z\"/>\n",
      "\t</event>\n",
      "\t<event>\n",
      "\t\t<string key=\"elementId\" value=\"process_end_event\"/>\n",
      "\t\t<string key=\"concept:name\" value=\"process end event\"/>\n",
      "\t\t<string key=\"processId\" value=\"Process_sample_sequence\"/>\n",
      "\t\t<string key=\"lifecycle:transition\" value=\"start\"/>\n",
      "\t\t<date key=\"time:timestamp\" value=\"2022-08-17T12:00:00.000Z\"/>\n",
      "\t</event>\n",
      "\t<event>\n",
      "\t\t<string key=\"elementId\" value=\"process_end_event\"/>\n",
      "\t\t<string key=\"concept:name\" value=\"process end event\"/>\n",
      "\t\t<string key=\"processId\" value=\"Process_sample_sequence\"/>\n",
      "\t\t<string key=\"lifecycle:transition\" value=\"complete\"/>\n",
      "\t\t<date key=\"time:timestamp\" value=\"2022-08-17T12:00:00.000Z\"/>\n",
      "\t</event>\n",
      "</trace>\n",
      "\n"
     ]
    }
   ],
   "source": [
    "# Thanks to: https://realpython.com/python-xml-parser/\n",
    "from xml.dom.minidom import parse\n",
    "\n",
    "logs_raw = parse(LOG_PATH)\n",
    "\n",
    "print('sample trace:')\n",
    "print(logs_raw.getElementsByTagName(\"trace\")[0].toprettyxml())"
   ]
  },
  {
   "cell_type": "markdown",
   "metadata": {},
   "source": [
    "### Transfrom logs: put \"assign\" timestamps for \"start\" events and remove \"assign\" events"
   ]
  },
  {
   "cell_type": "code",
   "execution_count": 91,
   "metadata": {},
   "outputs": [],
   "source": [
    "from xml.dom.minidom import Node\n",
    "from datetime import datetime\n",
    "\n",
    "def has_key_value(element=None, key=None, value=None):\n",
    "    return (element.getAttribute(\"key\") == key and element.getAttribute(\"value\") == value)\n",
    "\n",
    "\n",
    "def contains_string_element_with_key_value(element=None, key=None, value=None):\n",
    "    strings = element.getElementsByTagName(\"string\")\n",
    "    for string_element in strings:\n",
    "            if has_key_value(string_element, key, value):\n",
    "                return True\n",
    "\n",
    "    return False\n",
    "\n",
    "def get_date(element):\n",
    "    time_stamp_string = element.getElementsByTagName(\"date\")[0].getAttribute(\"value\")\n",
    "    return datetime.fromisoformat(time_stamp_string.replace('Z', '+00:00'))\n",
    "\n",
    "\n",
    "def set_date(element, date_string):\n",
    "    element.getElementsByTagName(\"date\")[0].setAttribute(\"value\", date_string)\n",
    "\n",
    "def get_string_element_by_key(element=None, key=None):\n",
    "    strings = element.getElementsByTagName(\"string\")\n",
    "    for string_element in strings:\n",
    "        if string_element.getAttribute(\"key\") == key:\n",
    "            return string_element\n",
    "\n",
    "    return None\n",
    "\n",
    "def get_string_element_value_by_key(element=None, key=None):\n",
    "    string_element = get_string_element_by_key(element, key)\n",
    "\n",
    "    if string_element is None:\n",
    "        return None\n",
    "\n",
    "    return string_element.getAttribute(\"value\")\n",
    "\n",
    "def set_string_element_value_by_key(element=None, key=None, value='NA'):\n",
    "    strings = element.getElementsByTagName(\"string\")\n",
    "    for string_element in strings:\n",
    "        if string_element.getAttribute(\"key\") == key:\n",
    "            return string_element.setAttribute(\"value\", value)\n",
    "\n",
    "    return None\n",
    "\n",
    "def write_to_file_xml(file_path, root_node):\n",
    "    file_handle = open(file_path,\"w\")\n",
    "    root_node.writexml(file_handle, indent='\\t',  addindent='\\t', newl='\\n')\n",
    "    file_handle.close()\n",
    "\n",
    "def remove_adapted_suffix_in_name(event):\n",
    "    key = 'concept:name'\n",
    "    event_concept_name = get_string_element_value_by_key(event, key)\n",
    "    first_part_of_name = event_concept_name.split('-')[0]\n",
    "    set_string_element_value_by_key(element=event, key=key, value=first_part_of_name)\n",
    "\n",
    "# loop over all traces\n",
    "traces = logs_raw.getElementsByTagName(\"trace\")\n",
    "for trace in traces:\n",
    "    # get all events\n",
    "    events = trace.getElementsByTagName(\"event\")\n",
    "    # loop on events\n",
    "    for event in events:\n",
    "\n",
    "        # get rid of all \"Z\"s in timestamps\n",
    "        without_z_timestamp = event.getElementsByTagName(\"date\")[0].getAttribute(\"value\").replace('Z', '+00:00')\n",
    "        set_date(event, without_z_timestamp)\n",
    "\n",
    "        # if event is \"assign\" get timestamp\n",
    "        \n",
    "        if contains_string_element_with_key_value(event, 'lifecycle:transition', 'assign'): # it is an assign event\n",
    "           \n",
    "            assign_timestamp = event.getElementsByTagName(\"date\")[0].getAttribute(\"value\").replace('Z', '+00:00')\n",
    "            \n",
    "            event_concept_name = get_string_element_value_by_key(event, 'concept:name')\n",
    "            \n",
    "            # find next event with the same concept:name\n",
    "            for ev in events:\n",
    "                # if event is \"start\" replace timestamp with the one from \"assign\"\n",
    "                if contains_string_element_with_key_value(ev, 'lifecycle:transition', 'start') and \\\n",
    "                   contains_string_element_with_key_value(ev, 'concept:name', event_concept_name):\n",
    "                    set_date(ev, assign_timestamp)\n",
    "\n",
    "            # remove assign event\n",
    "            event.parentNode.removeChild(event)\n",
    "\n",
    "        # if contains_string_element_with_key_value(event, 'lifecycle:transition', 'start'): # it is start event\n",
    "        #     # remove start event\n",
    "        #     event.parentNode.removeChild(event)\n",
    "\n",
    "        # remove elementId attribute from event\n",
    "        elementId_element = get_string_element_by_key(element=event, key='elementId')\n",
    "        event.removeChild(elementId_element)\n",
    "\n",
    "        # remove '-adapted...' suffix from activity names\n",
    "        remove_adapted_suffix_in_name(event)\n",
    "    \n",
    "write_to_file_xml(TRANSFORMED_LOG_PATH, logs_raw)"
   ]
  },
  {
   "cell_type": "markdown",
   "metadata": {},
   "source": [
    "### Read Transformed log and store in a list"
   ]
  },
  {
   "cell_type": "code",
   "execution_count": 92,
   "metadata": {},
   "outputs": [],
   "source": [
    "from xml.dom.minidom import parse\n",
    "\n",
    "# read transformed log\n",
    "logs_xes = parse(TRANSFORMED_LOG_PATH)"
   ]
  },
  {
   "cell_type": "code",
   "execution_count": 93,
   "metadata": {},
   "outputs": [
    {
     "name": "stdout",
     "output_type": "stream",
     "text": [
      "sample trace:\n",
      "{'trace_id': 0, 'events': [{'name': 'process start event', 'start_time': datetime.datetime(2022, 8, 1, 9, 0, tzinfo=datetime.timezone.utc), 'end_time': datetime.datetime(2022, 8, 1, 9, 0, tzinfo=datetime.timezone.utc), 'resource': None, 'cost': 0}, {'name': 'A', 'start_time': datetime.datetime(2022, 8, 1, 9, 0, tzinfo=datetime.timezone.utc), 'end_time': datetime.datetime(2022, 8, 1, 9, 30, tzinfo=datetime.timezone.utc), 'resource': 'Default Resource-000001', 'cost': 12.5}, {'name': 'B', 'start_time': datetime.datetime(2022, 8, 1, 9, 30, tzinfo=datetime.timezone.utc), 'end_time': datetime.datetime(2022, 8, 1, 10, 0, tzinfo=datetime.timezone.utc), 'resource': 'Default Resource-000003', 'cost': 12.5}, {'name': 'C', 'start_time': datetime.datetime(2022, 8, 1, 10, 0, tzinfo=datetime.timezone.utc), 'end_time': datetime.datetime(2022, 8, 1, 10, 30, tzinfo=datetime.timezone.utc), 'resource': 'Default Resource-000006', 'cost': 12.5}, {'name': 'D', 'start_time': datetime.datetime(2022, 8, 1, 10, 30, tzinfo=datetime.timezone.utc), 'end_time': datetime.datetime(2022, 8, 1, 11, 0, tzinfo=datetime.timezone.utc), 'resource': 'Default Resource-000010', 'cost': 12.5}, {'name': 'E', 'start_time': datetime.datetime(2022, 8, 1, 11, 0, tzinfo=datetime.timezone.utc), 'end_time': datetime.datetime(2022, 8, 1, 11, 30, tzinfo=datetime.timezone.utc), 'resource': 'Default Resource-000005', 'cost': 12.5}, {'name': 'F', 'start_time': datetime.datetime(2022, 8, 1, 11, 30, tzinfo=datetime.timezone.utc), 'end_time': datetime.datetime(2022, 8, 1, 12, 0, tzinfo=datetime.timezone.utc), 'resource': 'Default Resource-000001', 'cost': 12.5}, {'name': 'process end event', 'start_time': datetime.datetime(2022, 8, 1, 12, 0, tzinfo=datetime.timezone.utc), 'end_time': datetime.datetime(2022, 8, 1, 12, 0, tzinfo=datetime.timezone.utc), 'resource': None, 'cost': 0}]}\n"
     ]
    }
   ],
   "source": [
    "# extract all data and store in a list\n",
    "\n",
    "event_logs = []\n",
    "\n",
    "# loop over all traces\n",
    "traces = logs_xes.getElementsByTagName(\"trace\")\n",
    "for trace in traces:\n",
    "\n",
    "    trace_id = int(trace.getElementsByTagName(\"string\")[0].getAttribute(\"value\"))\n",
    "    trace_obj = {'trace_id': trace_id, 'events': []}\n",
    "    \n",
    "    # get all events\n",
    "    events = trace.getElementsByTagName(\"event\")\n",
    "    # loop on events\n",
    "    for event in events:\n",
    "        # name, start_time, end_time, resource, cost\n",
    "        \n",
    "        start_event = contains_string_element_with_key_value(event, 'lifecycle:transition', 'start')\n",
    "\n",
    "        if not start_event:\n",
    "            continue\n",
    "        \n",
    "        # if this is start event: 1) set start_time 2) search for the complete event 3) set attributes based on complete event\n",
    "        # else (this is complete event): continue\n",
    "\n",
    "        start_time = get_date(event)\n",
    "        name = get_string_element_value_by_key(event, 'concept:name')\n",
    "        \n",
    "        # now we look for end_time, resource, and cost in the corresponding complete event\n",
    "        for ev in events:\n",
    "            # if event is \"complete\" and related then extract fields\n",
    "            if contains_string_element_with_key_value(ev, 'lifecycle:transition', 'complete') and \\\n",
    "               contains_string_element_with_key_value(ev, 'concept:name', name):\n",
    "                # this is a related complete event\n",
    "                end_time = get_date(ev)\n",
    "                resource = get_string_element_value_by_key(ev, 'org:resource')\n",
    "                cost = get_string_element_value_by_key(ev, 'resourceCost')\n",
    "                cost = 0 if cost is None else float(cost)\n",
    "                    \n",
    "                not_found = False\n",
    "                \n",
    "\n",
    "        event_obj = {'name': name, 'start_time': start_time, 'end_time': end_time, 'resource': resource, 'cost': cost}\n",
    "        trace_obj['events'].append(event_obj)\n",
    "    \n",
    "    event_logs.append(trace_obj)\n",
    "\n",
    "# sort traces from 0 to the end\n",
    "event_logs = sorted(event_logs, key=lambda trace_dic: trace_dic['trace_id'])\n",
    "\n",
    "print('sample trace:')\n",
    "print(event_logs[0])\n"
   ]
  },
  {
   "cell_type": "markdown",
   "metadata": {},
   "source": [
    "### Inject Pattern (Update task durations with (increase and decrease) pattern)"
   ]
  },
  {
   "cell_type": "code",
   "execution_count": 94,
   "metadata": {},
   "outputs": [
    {
     "name": "stdout",
     "output_type": "stream",
     "text": [
      "Patterned logs generation CPU time: 0.6875 seconds\n"
     ]
    }
   ],
   "source": [
    "def store_obj_in_file(obj, file_path):\n",
    "    import pickle\n",
    "    file_to_store = open(file_path, \"wb\")\n",
    "    pickle.dump(obj, file_to_store)\n",
    "    file_to_store.close()\n",
    "\n",
    "def shift_consecutive_events(trace_events, event_index, time_shift):\n",
    "    #shift all timestamps after this event\n",
    "    for ev_index, ev in enumerate(trace_events):\n",
    "        if ev_index > event_index:\n",
    "            ev['start_time'] += time_shift\n",
    "            ev['end_time'] += time_shift\n",
    "\n",
    "def generate_patterned_logs(logs):\n",
    "    from datetime import timedelta\n",
    "    import copy\n",
    "\n",
    "    start_time_patterned_logs = time.process_time()\n",
    "\n",
    "    # patterns in task durations in minutes\n",
    "    activities_with_pattern = ['B','C']\n",
    "    b_list = [30,40,50,60,50,40]\n",
    "    c_list = [30,60,90,60]\n",
    "    patterns = {'B':b_list,\n",
    "                'C':c_list}\n",
    "\n",
    "    event_logs_patterned = copy.deepcopy(logs)\n",
    "\n",
    "    #remove cost (could be considered later)\n",
    "    for trace in event_logs_patterned:\n",
    "        for event in trace['events']:\n",
    "            event.pop('cost', None)\n",
    "\n",
    "    num_traces = len(event_logs_patterned)\n",
    "\n",
    "    for trace in event_logs_patterned:\n",
    "        \n",
    "        trace_events = trace['events']\n",
    "\n",
    "        for event_index, event in enumerate(trace_events):\n",
    "\n",
    "            activity_name = event['name']\n",
    "            trace_id = trace['trace_id']\n",
    "            \n",
    "            old_duration = event['end_time'] - event['start_time']\n",
    "            new_duration_minutes = old_duration.total_seconds()/60\n",
    "\n",
    "            # assign cycle_times with patterns if patterned task\n",
    "            if activity_name in activities_with_pattern:\n",
    "                pattern_length = len(patterns[activity_name])\n",
    "                new_duration_minutes = patterns[activity_name][trace_id % pattern_length]\n",
    "            \n",
    "            new_duration = timedelta(minutes=new_duration_minutes)\n",
    "\n",
    "            #shift end time of this event\n",
    "            time_shift = new_duration - old_duration\n",
    "            event['end_time'] = event['end_time'] + time_shift\n",
    "\n",
    "            shift_consecutive_events(trace_events, event_index, time_shift)\n",
    "\n",
    "    end_time_patterned_logs = time.process_time()\n",
    "    print('Patterned logs generation CPU time:', end_time_patterned_logs - start_time_patterned_logs, 'seconds')\n",
    "    return event_logs_patterned\n",
    "\n",
    "event_logs_patterned = generate_patterned_logs(event_logs)\n",
    "store_obj_in_file(event_logs_patterned, raw_data_object_file_path)"
   ]
  },
  {
   "cell_type": "markdown",
   "metadata": {},
   "source": [
    "### Add noise to patterned logs and save as a separate noisy logs"
   ]
  },
  {
   "cell_type": "code",
   "execution_count": 95,
   "metadata": {},
   "outputs": [
    {
     "name": "stdout",
     "output_type": "stream",
     "text": [
      "noise absolute values mean: 3.8772256999061954\n",
      "Adding noise CPU time: 0.859375 seconds\n"
     ]
    }
   ],
   "source": [
    "start_time_adding_noise = time.process_time()\n",
    "\n",
    "import random\n",
    "random.seed(10)\n",
    "noise_percentage_max = 20\n",
    "\n",
    "def add_noise(logs):\n",
    "    from datetime import timedelta\n",
    "    from statistics import mean\n",
    "    import copy\n",
    "    \n",
    "    noise_values = []\n",
    "\n",
    "    noisy_logs = copy.deepcopy(logs)\n",
    "\n",
    "    for trace in noisy_logs:\n",
    "        \n",
    "        trace_events = trace['events']\n",
    "\n",
    "        for event_index, event in enumerate(trace_events):\n",
    "\n",
    "            activity_name = event['name']\n",
    "            trace_id = trace['trace_id']\n",
    "            \n",
    "            # update activity duration\n",
    "            old_duration = event['end_time'] - event['start_time']\n",
    "            new_duration_minutes = old_duration / timedelta(minutes=1)\n",
    "\n",
    "            noise = random.uniform(-new_duration_minutes, new_duration_minutes) * random.uniform(0, noise_percentage_max / 100) # +-[0-noise_percentage]\n",
    "            new_duration_minutes += noise\n",
    "\n",
    "            noise_values.append(abs(noise))\n",
    "\n",
    "            new_duration = timedelta(minutes=new_duration_minutes)\n",
    "\n",
    "            #shift end time of this event\n",
    "            time_shift = new_duration - old_duration\n",
    "            event['end_time'] = event['end_time'] + time_shift\n",
    "\n",
    "            shift_consecutive_events(trace_events, event_index, time_shift)\n",
    "        \n",
    "    print('noise absolute values mean:', mean(noise_values))\n",
    "                    \n",
    "    return noisy_logs\n",
    "\n",
    "noisy_logs = add_noise(event_logs_patterned)\n",
    "\n",
    "end_time_adding_noise = time.process_time()\n",
    "print('Adding noise CPU time:', end_time_adding_noise - start_time_adding_noise, 'seconds')\n",
    "\n",
    "store_obj_in_file(noisy_logs, noisy_data_object_file_path)"
   ]
  },
  {
   "cell_type": "markdown",
   "metadata": {},
   "source": [
    "### Adapt traces using the time threshold"
   ]
  },
  {
   "cell_type": "code",
   "execution_count": 96,
   "metadata": {},
   "outputs": [
    {
     "name": "stdout",
     "output_type": "stream",
     "text": [
      "Adapted traces percentage: 41.5\n",
      "Adapted traces percentage: 41.3\n"
     ]
    }
   ],
   "source": [
    "def adapt_case(skippable_activity_name, trace):\n",
    "    # this implementation skips the skippable activity in a given trace\n",
    "    for event_index, event in enumerate(trace):\n",
    "        if event['name'] == skippable_activity_name:\n",
    "            skippable_activity_duration = event['end_time'] - event['start_time']\n",
    "                    #update consequent timestamps\n",
    "            time_shift = skippable_activity_duration\n",
    "            shift_consecutive_events(trace, event_index, time_shift)\n",
    "                    #remove activity from the events\n",
    "            trace.pop(event_index)\n",
    "\n",
    "def adapt_logs(logs, cycle_time_threshold, skippable_activity_name):\n",
    "\n",
    "    num_traces = len(logs)\n",
    "    num_adapted_traces = 0\n",
    "    \n",
    "    for trace in logs:\n",
    "        trace_events = trace['events']\n",
    "        trace_cycle_time = trace_events[-1]['end_time'] - trace_events[0]['start_time']\n",
    "        # set adapted flag\n",
    "        trace['adapted'] = trace_cycle_time > cycle_time_threshold\n",
    "        \n",
    "        # do the adaptation if the threshold is violated \n",
    "        if trace['adapted']:\n",
    "            num_adapted_traces += 1\n",
    "            adapt_case(skippable_activity_name, trace_events)\n",
    "\n",
    "    print('Adapted traces percentage:', 100 * num_adapted_traces/num_traces)\n",
    "    return logs\n",
    "\n",
    "from datetime import timedelta\n",
    "\n",
    "cycle_time_threshold = timedelta(hours=4, minutes=10)\n",
    "skippable_activity_name = 'E'\n",
    "\n",
    "event_logs_adapted = adapt_logs(event_logs_patterned, cycle_time_threshold, skippable_activity_name)\n",
    "noisy_logs_adapted = adapt_logs(noisy_logs, cycle_time_threshold, skippable_activity_name)"
   ]
  },
  {
   "cell_type": "code",
   "execution_count": 97,
   "metadata": {},
   "outputs": [],
   "source": [
    "def logs_to_dict(logs):\n",
    "\n",
    "    from datetime import timedelta\n",
    "    all_events = []\n",
    "\n",
    "    for trace in logs:\n",
    "        \n",
    "        trace_events = trace['events']\n",
    "\n",
    "        for event_index, event in enumerate(trace_events):\n",
    "            event_dict = {'trace_id':trace['trace_id']}\n",
    "            event_dict['event_name'] = event['name']\n",
    "            event_dict['start_time'] = event['start_time']\n",
    "            event_dict['start_weekday'] = event['start_time'].weekday()\n",
    "            event_dict['end_time'] = event['end_time']\n",
    "            event_dict['duration'] = (event['end_time'] - event['start_time']) / timedelta(minutes=1)\n",
    "            event_dict['resource'] = 'NA' if event['resource'] == None else event['resource']\n",
    "            event_dict['adapted'] = trace['adapted']\n",
    "            all_events.append(event_dict)\n",
    "    \n",
    "    return all_events"
   ]
  },
  {
   "cell_type": "markdown",
   "metadata": {},
   "source": [
    "### store logs to csv files (adapted.csv and adapted_noisy.csv)"
   ]
  },
  {
   "cell_type": "code",
   "execution_count": 98,
   "metadata": {},
   "outputs": [],
   "source": [
    "def write_to_file_csv(file_name, data_dic):\n",
    "    import csv\n",
    "\n",
    "    with open(file_name, mode='w', newline='') as csvfile:\n",
    "        writer = csv.DictWriter(csvfile, fieldnames = list(data_dic[0].keys()))\n",
    "        writer.writeheader()\n",
    "        writer.writerows(data_dic)\n",
    "\n",
    "raw_data = logs_to_dict(event_logs_adapted)\n",
    "write_to_file_csv(raw_data_file_name, raw_data)\n",
    "\n",
    "noisy_data = logs_to_dict(noisy_logs_adapted)\n",
    "write_to_file_csv(noisy_data_file_name, noisy_data)"
   ]
  },
  {
   "cell_type": "markdown",
   "metadata": {},
   "source": [
    "### Encode data (from events of traces to data rows, each trace -> one row)"
   ]
  },
  {
   "cell_type": "code",
   "execution_count": 99,
   "metadata": {},
   "outputs": [
    {
     "name": "stdout",
     "output_type": "stream",
     "text": [
      "Encoding logs to: ../logs/simulation-models/sample_sequence_simulation_logs_adapted_encoded.csv\n",
      "Encoding logs to: ../logs/simulation-models/sample_sequence_simulation_logs_adapted_noisy_encoded.csv\n",
      "Encoding done!\n"
     ]
    }
   ],
   "source": [
    "def encode_data(input_csv_file_name, output_csv_file_name):\n",
    "    import pandas as pd\n",
    "    import pm4py\n",
    "    from pm4py.algo.transformation.log_to_features import algorithm as log_to_features\n",
    "    from datetime import timedelta\n",
    "\n",
    "    print('Encoding logs to:', output_csv_file_name)\n",
    "\n",
    "    dataframe = pd.read_csv(input_csv_file_name, sep=',')\n",
    "    dataframe = pm4py.format_dataframe(dataframe, case_id='trace_id', activity_key='event_name', \n",
    "                                        start_timestamp_key='start_time', timestamp_key='end_time')\n",
    "    event_log = pm4py.convert_to_event_log(dataframe)\n",
    "\n",
    "    data, feature_names = log_to_features.apply(event_log)\n",
    "\n",
    "    df = pd.DataFrame(data, columns=feature_names)\n",
    "    \n",
    "    cycle_times = []\n",
    "\n",
    "    grouped_traces = dataframe.groupby(by='trace_id')\n",
    "    for name, group in grouped_traces:\n",
    "        trace_cycle_time = (group.iloc[-1]['end_time'] - group.iloc[0]['start_time']) / timedelta(minutes=1)\n",
    "        cycle_times.append(trace_cycle_time)\n",
    "\n",
    "    # traces_data = pd.concat([dataframe.groupby(by='trace_id').head(1)['start_time'].sort_values(ascending=True).reset_index(drop=True), dataframe.groupby(by='trace_id').tail(1)['end_time'].sort_values(ascending=True).reset_index(drop=True)], axis=1, keys=['start', 'end'])\n",
    "    # traces_data['duration'] = traces_data['end'] - traces_data['start']\n",
    "    \n",
    "    df['trace:cycle_time'] = cycle_times\n",
    "    df['adapted'] = dataframe.groupby(by='trace_id')['adapted'].min()\n",
    "    df.index.name = 'trace_id'\n",
    "\n",
    "    df.to_csv(output_csv_file_name)\n",
    "\n",
    "raw_data_encoded_output_file_name = LOGS_DIR + LOG_NAME + '_adapted_encoded.csv'\n",
    "noisy_data_encoded_output_file_name = LOGS_DIR + LOG_NAME + '_adapted_noisy_encoded.csv'\n",
    "\n",
    "encode_data(raw_data_file_name, raw_data_encoded_output_file_name)\n",
    "encode_data(noisy_data_file_name, noisy_data_encoded_output_file_name)\n",
    "print('Encoding done!')"
   ]
  },
  {
   "cell_type": "markdown",
   "metadata": {},
   "source": [
    "### Validation"
   ]
  },
  {
   "cell_type": "code",
   "execution_count": 100,
   "metadata": {},
   "outputs": [],
   "source": [
    "def measure_log_fitness_percentage(logs):\n",
    "    import pm4py\n",
    "\n",
    "    net, initial_marking, final_marking = pm4py.discover_petri_net_inductive(logs)\n",
    "    pm4py.view_petri_net(net, initial_marking, final_marking)\n",
    "\n",
    "    replayed_traces = pm4py.conformance_diagnostics_token_based_replay(logs, net, initial_marking, final_marking)\n",
    "\n",
    "    num_traces_in_logs = len(logs)\n",
    "    num_traces_fit = 0\n",
    "\n",
    "    for replayed_trace in replayed_traces:\n",
    "        if replayed_trace['trace_is_fit'] == True:\n",
    "            num_traces_fit += 1\n",
    "    \n",
    "    return (num_traces_fit * 100) / num_traces_in_logs"
   ]
  },
  {
   "cell_type": "code",
   "execution_count": 101,
   "metadata": {},
   "outputs": [
    {
     "name": "stderr",
     "output_type": "stream",
     "text": [
      "parsing log, completed traces :: 100%|██████████| 1000/1000 [00:02<00:00, 430.85it/s]\n"
     ]
    },
    {
     "data": {
      "image/png": "[encoded data removed]",
      "text/plain": [
       "<IPython.core.display.Image object>"
      ]
     },
     "metadata": {},
     "output_type": "display_data"
    },
    {
     "name": "stdout",
     "output_type": "stream",
     "text": [
      "Transformed logs fitness percentage: 100.0\n"
     ]
    }
   ],
   "source": [
    "import pm4py\n",
    "\n",
    "transformed_logs = pm4py.read_xes(TRANSFORMED_LOG_PATH)\n",
    "transformed_logs_fitness_percentage = measure_log_fitness_percentage(transformed_logs)\n",
    "print('Transformed logs fitness percentage:', transformed_logs_fitness_percentage)"
   ]
  },
  {
   "cell_type": "code",
   "execution_count": 102,
   "metadata": {},
   "outputs": [
    {
     "data": {
      "image/png": "[encoded data removed]",
      "text/plain": [
       "<IPython.core.display.Image object>"
      ]
     },
     "metadata": {},
     "output_type": "display_data"
    },
    {
     "name": "stderr",
     "output_type": "stream",
     "text": [
      "replaying log with TBR, completed variants :: 100%|██████████| 2/2 [00:00<00:00, 59.68it/s]\n"
     ]
    },
    {
     "name": "stdout",
     "output_type": "stream",
     "text": [
      "Raw logs fitness percentage: 100.0\n"
     ]
    },
    {
     "data": {
      "image/png": "[encoded data removed]",
      "text/plain": [
       "<IPython.core.display.Image object>"
      ]
     },
     "metadata": {},
     "output_type": "display_data"
    },
    {
     "name": "stderr",
     "output_type": "stream",
     "text": [
      "replaying log with TBR, completed variants :: 100%|██████████| 2/2 [00:00<00:00, 62.43it/s]"
     ]
    },
    {
     "name": "stdout",
     "output_type": "stream",
     "text": [
      "Noisy logs fitness percentage: 100.0\n"
     ]
    },
    {
     "name": "stderr",
     "output_type": "stream",
     "text": [
      "\n"
     ]
    }
   ],
   "source": [
    "def measure_fitness_percentage_csv_file(log_path):\n",
    "    import pandas as pd\n",
    "    import pm4py\n",
    "\n",
    "    dataframe = pd.read_csv(log_path)\n",
    "    dataframe = pm4py.format_dataframe(dataframe, case_id='trace_id', activity_key='event_name', timestamp_key='end_time')\n",
    "    event_logs = pm4py.convert_to_event_log(dataframe)\n",
    "    fitness_percentage = measure_log_fitness_percentage(event_logs)\n",
    "    return fitness_percentage\n",
    "\n",
    "print('Raw logs fitness percentage:', measure_fitness_percentage_csv_file(raw_data_file_name))\n",
    "print('Noisy logs fitness percentage:', measure_fitness_percentage_csv_file(noisy_data_file_name))"
   ]
  },
  {
   "cell_type": "code",
   "execution_count": 103,
   "metadata": {},
   "outputs": [
    {
     "name": "stdout",
     "output_type": "stream",
     "text": [
      "CPU Execution time: 56.46875 seconds\n"
     ]
    }
   ],
   "source": [
    "# get the end time\n",
    "end_time_code = time.process_time()\n",
    "\n",
    "# get CPU time\n",
    "cpu_time = end_time_code - start_time_code\n",
    "print('CPU Execution time:', cpu_time, 'seconds')"
   ]
  }
 ],
 "metadata": {
  "kernelspec": {
   "display_name": "Python 3.9.7 ('base')",
   "language": "python",
   "name": "python3"
  },
  "language_info": {
   "codemirror_mode": {
    "name": "ipython",
    "version": 3
   },
   "file_extension": ".py",
   "mimetype": "text/x-python",
   "name": "python",
   "nbconvert_exporter": "python",
   "pygments_lexer": "ipython3",
   "version": "3.9.7"
  },
  "orig_nbformat": 4,
  "vscode": {
   "interpreter": {
    "hash": "756d3e229894c1360f2ca7195885572463c9f7d415e2dce4f2bd2edd9ff2749f"
   }
  }
 },
 "nbformat": 4,
 "nbformat_minor": 2
}
